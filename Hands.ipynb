{
 "cells": [
  {
   "cell_type": "code",
   "execution_count": 170,
   "metadata": {},
   "outputs": [],
   "source": [
    "import pandas as pd\n",
    "import matplotlib.pyplot as plt\n",
    "import numpy as np\n",
    "import os\n",
    "from os import listdir\n",
    "import glob\n",
    "import warnings\n",
    "warnings.filterwarnings('ignore')"
   ]
  },
  {
   "attachments": {
    "image.png": {
     "image/png": "[encoded data removed]"
    }
   },
   "cell_type": "markdown",
   "metadata": {},
   "source": [
    "![image.png](attachment:image.png)"
   ]
  },
  {
   "cell_type": "markdown",
   "metadata": {},
   "source": [
    " # Hand movement classification"
   ]
  },
  {
   "cell_type": "markdown",
   "metadata": {},
   "source": [
    "The purpose of the work is to classify between three different situations in the way people communicate with each other. The first is a spontaneous (autonomous) situation in which two people move their hands freely in front of each other. The second is a synchronous movement in which the two people move their hands together and the third is a movement in a single position. Where only one side moves the hands.\n",
    "The idea is to look at the patterns of the hands and try to deduce from them whether it is a situation alone, spontaneous or synchronous."
   ]
  },
  {
   "cell_type": "markdown",
   "metadata": {},
   "source": [
    "Alone mode: Each participant, in their turn, is asked to move their hand freely over the Leap-Motion controller."
   ]
  },
  {
   "cell_type": "markdown",
   "metadata": {},
   "source": [
    "Autonomous mode: The two participants can see each others' movement during the experiment."
   ]
  },
  {
   "cell_type": "markdown",
   "metadata": {},
   "source": [
    "Synchronization mode: The two participants are asked to moved in synchronization. They can interpret synchronization as they wish."
   ]
  },
  {
   "cell_type": "markdown",
   "metadata": {},
   "source": [
    "### On the other hand..."
   ]
  },
  {
   "cell_type": "markdown",
   "metadata": {},
   "source": [
    "* Upload data\n",
    "* Turn into dataframe\n",
    "* * Clean, check balance, info etc\n",
    "* * Remove 7 seconds\n",
    "* Visualize\n",
    "* PCA\n",
    "* Divide into train, test etc\n",
    "* Models\n",
    "* * Confusion matrices\n",
    "* validation\n",
    "* Summary\n",
    "* * Comparison"
   ]
  },
  {
   "cell_type": "markdown",
   "metadata": {},
   "source": [
    "spontan\n",
    "alone\n",
    "sync\n",
    "\n",
    "for each train and validation. dont touch validation til end\n",
    "get train and test\n",
    "take from each person those 3 files\n",
    "seperate to \n",
    "spontan\n",
    "alone\n",
    "sync\n",
    "one person should be the test\n",
    "\n",
    "os.list.dir function that you can go through list with and then merge\n",
    "need to merge left and right to one row\n",
    "leave only every 5th row, 1st and 6th\n",
    "\n",
    "in alone connect right hand\n",
    "files are different sizes so just take smaller ones"
   ]
  },
  {
   "cell_type": "markdown",
   "metadata": {},
   "source": [
    "This is the list of features in the data:"
   ]
  },
  {
   "cell_type": "code",
   "execution_count": 151,
   "metadata": {},
   "outputs": [],
   "source": [
    "Columns = [['Time', 'Frame ID','Hand Type'  '# hands', 'Position X', \n",
    "            'Position Y', 'Position Z', 'Velocity X', 'Velocity Y', \n",
    "            'Velocity Z', 'Pitch', 'Roll', 'Yaw', 'Wrist Pos X', \n",
    "            'Wrist Pos Y', 'Wrist Pos Z', 'Elbow pos X', 'Elbow Pos Y', \n",
    "            'Elbow Pos Z', 'Grab Strenth', 'Grab Angle', 'Pinch Strength']]           "
   ]
  },
  {
   "cell_type": "markdown",
   "metadata": {},
   "source": [
    "Let's upload the training data:"
   ]
  },
  {
   "cell_type": "markdown",
   "metadata": {},
   "source": [
    "Let's create a function to efficiently upload the data to the right data frame, according to the mode it is."
   ]
  },
  {
   "cell_type": "code",
   "execution_count": 166,
   "metadata": {},
   "outputs": [],
   "source": [
    "def Makedata(Names):\n",
    "    li = []\n",
    "    for i,name in enumerate(Names):\n",
    "        all_files = glob.glob(name + \"/*.csv\")\n",
    "        labels = [\"Spontan\", \"Sync\" , \"Alone\"]\n",
    "        for filename in all_files:\n",
    "            df = pd.read_csv(filename, index_col=None, header=0)\n",
    "            for j,label in enumerate(labels):\n",
    "                if label in filename:\n",
    "                    df[\"Label\"] = j\n",
    "                    df[\"Name\"] = i\n",
    "                    df = (df[df[\"Time\"] > (df[\"Time\"][0]+7)]) # remove the first 7 sec from each train\n",
    "            li.append(df)\n",
    "    # merge data frames.\n",
    "    frame = pd.concat(li, axis=0, ignore_index=True)\n",
    "    # Make hand type to 0 or 1.\n",
    "    frame.loc[(frame[' Hand Type'] == 'left') , \" Hand Type\"] = int(0)\n",
    "    frame.loc[(frame[' Hand Type'] == 'right') , \" Hand Type\"] = int(1)\n",
    "    frame[' Hand Type'] = frame[' Hand Type'].astype(int)\n",
    "    return frame"
   ]
  },
  {
   "cell_type": "code",
   "execution_count": 187,
   "metadata": {},
   "outputs": [
    {
     "data": {
      "text/html": [
       "<div>\n",
       "<style scoped>\n",
       "    .dataframe tbody tr th:only-of-type {\n",
       "        vertical-align: middle;\n",
       "    }\n",
       "\n",
       "    .dataframe tbody tr th {\n",
       "        vertical-align: top;\n",
       "    }\n",
       "\n",
       "    .dataframe thead th {\n",
       "        text-align: right;\n",
       "    }\n",
       "</style>\n",
       "<table border=\"1\" class=\"dataframe\">\n",
       "  <thead>\n",
       "    <tr style=\"text-align: right;\">\n",
       "      <th></th>\n",
       "      <th>Time</th>\n",
       "      <th>Frame ID</th>\n",
       "      <th>Hand Type</th>\n",
       "      <th># hands</th>\n",
       "      <th>Position X</th>\n",
       "      <th>Position Y</th>\n",
       "      <th>Position Z</th>\n",
       "      <th>Velocity X</th>\n",
       "      <th>Velocity Y</th>\n",
       "      <th>Velocity Z</th>\n",
       "      <th>...</th>\n",
       "      <th>Wrist Pos Y</th>\n",
       "      <th>Wrist Pos Z</th>\n",
       "      <th>Elbow pos X</th>\n",
       "      <th>Elbow Pos Y</th>\n",
       "      <th>Elbow Pos Z</th>\n",
       "      <th>Grab Strenth</th>\n",
       "      <th>Grab Angle</th>\n",
       "      <th>Pinch Strength</th>\n",
       "      <th>Label</th>\n",
       "      <th>Name</th>\n",
       "    </tr>\n",
       "  </thead>\n",
       "  <tbody>\n",
       "    <tr>\n",
       "      <th>0</th>\n",
       "      <td>619.9325</td>\n",
       "      <td>71525</td>\n",
       "      <td>0</td>\n",
       "      <td>1</td>\n",
       "      <td>-125.9596</td>\n",
       "      <td>168.4602</td>\n",
       "      <td>-27.114670</td>\n",
       "      <td>265.82160</td>\n",
       "      <td>-326.39930</td>\n",
       "      <td>241.7092</td>\n",
       "      <td>...</td>\n",
       "      <td>118.5998</td>\n",
       "      <td>-8.304316</td>\n",
       "      <td>-364.7364</td>\n",
       "      <td>-32.55849</td>\n",
       "      <td>85.38065</td>\n",
       "      <td>0.0</td>\n",
       "      <td>0.000000</td>\n",
       "      <td>0.0</td>\n",
       "      <td>2</td>\n",
       "      <td>0</td>\n",
       "    </tr>\n",
       "    <tr>\n",
       "      <th>1</th>\n",
       "      <td>619.9495</td>\n",
       "      <td>71527</td>\n",
       "      <td>0</td>\n",
       "      <td>1</td>\n",
       "      <td>-123.4033</td>\n",
       "      <td>165.2152</td>\n",
       "      <td>-24.034270</td>\n",
       "      <td>123.02550</td>\n",
       "      <td>-172.08610</td>\n",
       "      <td>171.8766</td>\n",
       "      <td>...</td>\n",
       "      <td>116.1477</td>\n",
       "      <td>-6.489561</td>\n",
       "      <td>-366.1621</td>\n",
       "      <td>-29.70646</td>\n",
       "      <td>89.85723</td>\n",
       "      <td>0.0</td>\n",
       "      <td>0.000000</td>\n",
       "      <td>0.0</td>\n",
       "      <td>2</td>\n",
       "      <td>0</td>\n",
       "    </tr>\n",
       "    <tr>\n",
       "      <th>2</th>\n",
       "      <td>619.9656</td>\n",
       "      <td>71529</td>\n",
       "      <td>0</td>\n",
       "      <td>1</td>\n",
       "      <td>-119.4215</td>\n",
       "      <td>159.7905</td>\n",
       "      <td>-20.979390</td>\n",
       "      <td>204.39310</td>\n",
       "      <td>-283.77100</td>\n",
       "      <td>153.4038</td>\n",
       "      <td>...</td>\n",
       "      <td>113.0303</td>\n",
       "      <td>-5.492952</td>\n",
       "      <td>-369.1355</td>\n",
       "      <td>-25.86688</td>\n",
       "      <td>92.54630</td>\n",
       "      <td>0.0</td>\n",
       "      <td>0.000000</td>\n",
       "      <td>0.0</td>\n",
       "      <td>2</td>\n",
       "      <td>0</td>\n",
       "    </tr>\n",
       "    <tr>\n",
       "      <th>3</th>\n",
       "      <td>619.9825</td>\n",
       "      <td>71531</td>\n",
       "      <td>0</td>\n",
       "      <td>1</td>\n",
       "      <td>-117.6987</td>\n",
       "      <td>156.9946</td>\n",
       "      <td>-18.672850</td>\n",
       "      <td>104.39600</td>\n",
       "      <td>-135.59880</td>\n",
       "      <td>124.5371</td>\n",
       "      <td>...</td>\n",
       "      <td>111.5442</td>\n",
       "      <td>-4.709237</td>\n",
       "      <td>-371.1240</td>\n",
       "      <td>-23.94903</td>\n",
       "      <td>93.60573</td>\n",
       "      <td>0.0</td>\n",
       "      <td>0.000000</td>\n",
       "      <td>0.0</td>\n",
       "      <td>2</td>\n",
       "      <td>0</td>\n",
       "    </tr>\n",
       "    <tr>\n",
       "      <th>4</th>\n",
       "      <td>619.9995</td>\n",
       "      <td>71533</td>\n",
       "      <td>0</td>\n",
       "      <td>1</td>\n",
       "      <td>-114.6961</td>\n",
       "      <td>152.9964</td>\n",
       "      <td>-15.699020</td>\n",
       "      <td>118.92250</td>\n",
       "      <td>-159.14510</td>\n",
       "      <td>166.9148</td>\n",
       "      <td>...</td>\n",
       "      <td>111.4075</td>\n",
       "      <td>-4.421209</td>\n",
       "      <td>-375.1566</td>\n",
       "      <td>-23.01028</td>\n",
       "      <td>88.07614</td>\n",
       "      <td>0.0</td>\n",
       "      <td>0.000000</td>\n",
       "      <td>0.0</td>\n",
       "      <td>2</td>\n",
       "      <td>0</td>\n",
       "    </tr>\n",
       "    <tr>\n",
       "      <th>5</th>\n",
       "      <td>620.0154</td>\n",
       "      <td>71535</td>\n",
       "      <td>0</td>\n",
       "      <td>1</td>\n",
       "      <td>-114.0516</td>\n",
       "      <td>151.1051</td>\n",
       "      <td>-12.367970</td>\n",
       "      <td>77.81772</td>\n",
       "      <td>-161.02190</td>\n",
       "      <td>198.4248</td>\n",
       "      <td>...</td>\n",
       "      <td>113.7657</td>\n",
       "      <td>-3.468150</td>\n",
       "      <td>-381.8506</td>\n",
       "      <td>-22.76634</td>\n",
       "      <td>75.90390</td>\n",
       "      <td>0.0</td>\n",
       "      <td>0.035190</td>\n",
       "      <td>0.0</td>\n",
       "      <td>2</td>\n",
       "      <td>0</td>\n",
       "    </tr>\n",
       "    <tr>\n",
       "      <th>6</th>\n",
       "      <td>620.0324</td>\n",
       "      <td>71536</td>\n",
       "      <td>0</td>\n",
       "      <td>1</td>\n",
       "      <td>-113.0556</td>\n",
       "      <td>149.4217</td>\n",
       "      <td>-10.467600</td>\n",
       "      <td>115.10040</td>\n",
       "      <td>-194.51480</td>\n",
       "      <td>219.5945</td>\n",
       "      <td>...</td>\n",
       "      <td>113.3798</td>\n",
       "      <td>-2.931238</td>\n",
       "      <td>-384.1937</td>\n",
       "      <td>-23.40184</td>\n",
       "      <td>69.47894</td>\n",
       "      <td>0.0</td>\n",
       "      <td>0.096545</td>\n",
       "      <td>0.0</td>\n",
       "      <td>2</td>\n",
       "      <td>0</td>\n",
       "    </tr>\n",
       "    <tr>\n",
       "      <th>7</th>\n",
       "      <td>620.0485</td>\n",
       "      <td>71538</td>\n",
       "      <td>0</td>\n",
       "      <td>1</td>\n",
       "      <td>-112.9368</td>\n",
       "      <td>146.4524</td>\n",
       "      <td>-6.776668</td>\n",
       "      <td>-50.17619</td>\n",
       "      <td>-73.27056</td>\n",
       "      <td>219.2248</td>\n",
       "      <td>...</td>\n",
       "      <td>115.2849</td>\n",
       "      <td>-1.923731</td>\n",
       "      <td>-387.0169</td>\n",
       "      <td>-26.66047</td>\n",
       "      <td>58.95325</td>\n",
       "      <td>0.0</td>\n",
       "      <td>0.171622</td>\n",
       "      <td>0.0</td>\n",
       "      <td>2</td>\n",
       "      <td>0</td>\n",
       "    </tr>\n",
       "    <tr>\n",
       "      <th>8</th>\n",
       "      <td>620.0653</td>\n",
       "      <td>71540</td>\n",
       "      <td>0</td>\n",
       "      <td>1</td>\n",
       "      <td>-112.1661</td>\n",
       "      <td>143.3890</td>\n",
       "      <td>-3.413068</td>\n",
       "      <td>10.07872</td>\n",
       "      <td>-116.69510</td>\n",
       "      <td>183.8517</td>\n",
       "      <td>...</td>\n",
       "      <td>117.2872</td>\n",
       "      <td>-1.336222</td>\n",
       "      <td>-388.7102</td>\n",
       "      <td>-27.80871</td>\n",
       "      <td>50.35883</td>\n",
       "      <td>0.0</td>\n",
       "      <td>0.414857</td>\n",
       "      <td>0.0</td>\n",
       "      <td>2</td>\n",
       "      <td>0</td>\n",
       "    </tr>\n",
       "    <tr>\n",
       "      <th>9</th>\n",
       "      <td>620.0815</td>\n",
       "      <td>71542</td>\n",
       "      <td>0</td>\n",
       "      <td>1</td>\n",
       "      <td>-110.8061</td>\n",
       "      <td>141.5307</td>\n",
       "      <td>-0.763288</td>\n",
       "      <td>199.56670</td>\n",
       "      <td>-241.62670</td>\n",
       "      <td>142.7272</td>\n",
       "      <td>...</td>\n",
       "      <td>120.7500</td>\n",
       "      <td>-1.093778</td>\n",
       "      <td>-388.9531</td>\n",
       "      <td>-26.04114</td>\n",
       "      <td>45.70087</td>\n",
       "      <td>0.0</td>\n",
       "      <td>0.589233</td>\n",
       "      <td>0.0</td>\n",
       "      <td>2</td>\n",
       "      <td>0</td>\n",
       "    </tr>\n",
       "  </tbody>\n",
       "</table>\n",
       "<p>10 rows × 24 columns</p>\n",
       "</div>"
      ],
      "text/plain": [
       "       Time   Frame ID   Hand Type   # hands   Position X   Position Y  \\\n",
       "0  619.9325      71525           0         1    -125.9596     168.4602   \n",
       "1  619.9495      71527           0         1    -123.4033     165.2152   \n",
       "2  619.9656      71529           0         1    -119.4215     159.7905   \n",
       "3  619.9825      71531           0         1    -117.6987     156.9946   \n",
       "4  619.9995      71533           0         1    -114.6961     152.9964   \n",
       "5  620.0154      71535           0         1    -114.0516     151.1051   \n",
       "6  620.0324      71536           0         1    -113.0556     149.4217   \n",
       "7  620.0485      71538           0         1    -112.9368     146.4524   \n",
       "8  620.0653      71540           0         1    -112.1661     143.3890   \n",
       "9  620.0815      71542           0         1    -110.8061     141.5307   \n",
       "\n",
       "    Position Z   Velocity X   Velocity Y   Velocity Z  ...   Wrist Pos Y  \\\n",
       "0   -27.114670    265.82160   -326.39930     241.7092  ...      118.5998   \n",
       "1   -24.034270    123.02550   -172.08610     171.8766  ...      116.1477   \n",
       "2   -20.979390    204.39310   -283.77100     153.4038  ...      113.0303   \n",
       "3   -18.672850    104.39600   -135.59880     124.5371  ...      111.5442   \n",
       "4   -15.699020    118.92250   -159.14510     166.9148  ...      111.4075   \n",
       "5   -12.367970     77.81772   -161.02190     198.4248  ...      113.7657   \n",
       "6   -10.467600    115.10040   -194.51480     219.5945  ...      113.3798   \n",
       "7    -6.776668    -50.17619    -73.27056     219.2248  ...      115.2849   \n",
       "8    -3.413068     10.07872   -116.69510     183.8517  ...      117.2872   \n",
       "9    -0.763288    199.56670   -241.62670     142.7272  ...      120.7500   \n",
       "\n",
       "    Wrist Pos Z   Elbow pos X   Elbow Pos Y   Elbow Pos Z   Grab Strenth  \\\n",
       "0     -8.304316     -364.7364     -32.55849      85.38065            0.0   \n",
       "1     -6.489561     -366.1621     -29.70646      89.85723            0.0   \n",
       "2     -5.492952     -369.1355     -25.86688      92.54630            0.0   \n",
       "3     -4.709237     -371.1240     -23.94903      93.60573            0.0   \n",
       "4     -4.421209     -375.1566     -23.01028      88.07614            0.0   \n",
       "5     -3.468150     -381.8506     -22.76634      75.90390            0.0   \n",
       "6     -2.931238     -384.1937     -23.40184      69.47894            0.0   \n",
       "7     -1.923731     -387.0169     -26.66047      58.95325            0.0   \n",
       "8     -1.336222     -388.7102     -27.80871      50.35883            0.0   \n",
       "9     -1.093778     -388.9531     -26.04114      45.70087            0.0   \n",
       "\n",
       "    Grab Angle   Pinch Strength  Label  Name  \n",
       "0     0.000000              0.0      2     0  \n",
       "1     0.000000              0.0      2     0  \n",
       "2     0.000000              0.0      2     0  \n",
       "3     0.000000              0.0      2     0  \n",
       "4     0.000000              0.0      2     0  \n",
       "5     0.035190              0.0      2     0  \n",
       "6     0.096545              0.0      2     0  \n",
       "7     0.171622              0.0      2     0  \n",
       "8     0.414857              0.0      2     0  \n",
       "9     0.589233              0.0      2     0  \n",
       "\n",
       "[10 rows x 24 columns]"
      ]
     },
     "execution_count": 187,
     "metadata": {},
     "output_type": "execute_result"
    }
   ],
   "source": [
    "address = glob.glob(r'/Users/nnussbaum/Ariel/extraFiles/Training/' + \"/*\")\n",
    "frame = Makedata(address)\n",
    "frame.head(10)"
   ]
  },
  {
   "cell_type": "code",
   "execution_count": 198,
   "metadata": {},
   "outputs": [
    {
     "name": "stdout",
     "output_type": "stream",
     "text": [
      "(300397, 24)\n",
      "Time               False\n",
      " Frame ID          False\n",
      " Hand Type         False\n",
      " # hands           False\n",
      " Position X        False\n",
      " Position Y        False\n",
      " Position Z        False\n",
      " Velocity X        False\n",
      " Velocity Y        False\n",
      " Velocity Z        False\n",
      " Pitch             False\n",
      " Roll              False\n",
      " Yaw               False\n",
      " Wrist Pos X       False\n",
      " Wrist Pos Y       False\n",
      " Wrist Pos Z       False\n",
      " Elbow pos X       False\n",
      " Elbow Pos Y       False\n",
      " Elbow Pos Z       False\n",
      " Grab Strenth      False\n",
      " Grab Angle        False\n",
      " Pinch Strength    False\n",
      "Label              False\n",
      "Name               False\n",
      "dtype: bool\n"
     ]
    }
   ],
   "source": [
    "print(frame.shape)\n",
    "print(frame.isna().any())"
   ]
  },
  {
   "cell_type": "code",
   "execution_count": 197,
   "metadata": {},
   "outputs": [
    {
     "name": "stdout",
     "output_type": "stream",
     "text": [
      "<class 'pandas.core.frame.DataFrame'>\n",
      "RangeIndex: 300397 entries, 0 to 300396\n",
      "Data columns (total 24 columns):\n",
      " #   Column           Non-Null Count   Dtype  \n",
      "---  ------           --------------   -----  \n",
      " 0   Time             300397 non-null  float64\n",
      " 1    Frame ID        300397 non-null  int64  \n",
      " 2    Hand Type       300397 non-null  int64  \n",
      " 3    # hands         300397 non-null  int64  \n",
      " 4    Position X      300397 non-null  float64\n",
      " 5    Position Y      300397 non-null  float64\n",
      " 6    Position Z      300397 non-null  float64\n",
      " 7    Velocity X      300397 non-null  float64\n",
      " 8    Velocity Y      300397 non-null  float64\n",
      " 9    Velocity Z      300397 non-null  float64\n",
      " 10   Pitch           300397 non-null  float64\n",
      " 11   Roll            300397 non-null  float64\n",
      " 12   Yaw             300397 non-null  float64\n",
      " 13   Wrist Pos X     300397 non-null  float64\n",
      " 14   Wrist Pos Y     300397 non-null  float64\n",
      " 15   Wrist Pos Z     300397 non-null  float64\n",
      " 16   Elbow pos X     300397 non-null  float64\n",
      " 17   Elbow Pos Y     300397 non-null  float64\n",
      " 18   Elbow Pos Z     300397 non-null  float64\n",
      " 19   Grab Strenth    300397 non-null  float64\n",
      " 20   Grab Angle      300397 non-null  float64\n",
      " 21   Pinch Strength  300397 non-null  float64\n",
      " 22  Label            300397 non-null  int64  \n",
      " 23  Name             300397 non-null  int64  \n",
      "dtypes: float64(19), int64(5)\n",
      "memory usage: 55.0 MB\n",
      "None\n"
     ]
    }
   ],
   "source": [
    "print(frame.info())"
   ]
  },
  {
   "cell_type": "markdown",
   "metadata": {},
   "source": [
    "Let's upload the testing data:"
   ]
  },
  {
   "cell_type": "code",
   "execution_count": 186,
   "metadata": {},
   "outputs": [
    {
     "data": {
      "text/html": [
       "<div>\n",
       "<style scoped>\n",
       "    .dataframe tbody tr th:only-of-type {\n",
       "        vertical-align: middle;\n",
       "    }\n",
       "\n",
       "    .dataframe tbody tr th {\n",
       "        vertical-align: top;\n",
       "    }\n",
       "\n",
       "    .dataframe thead th {\n",
       "        text-align: right;\n",
       "    }\n",
       "</style>\n",
       "<table border=\"1\" class=\"dataframe\">\n",
       "  <thead>\n",
       "    <tr style=\"text-align: right;\">\n",
       "      <th></th>\n",
       "      <th>Time</th>\n",
       "      <th>Frame ID</th>\n",
       "      <th>Hand Type</th>\n",
       "      <th># hands</th>\n",
       "      <th>Position X</th>\n",
       "      <th>Position Y</th>\n",
       "      <th>Position Z</th>\n",
       "      <th>Velocity X</th>\n",
       "      <th>Velocity Y</th>\n",
       "      <th>Velocity Z</th>\n",
       "      <th>...</th>\n",
       "      <th>Wrist Pos Y</th>\n",
       "      <th>Wrist Pos Z</th>\n",
       "      <th>Elbow pos X</th>\n",
       "      <th>Elbow Pos Y</th>\n",
       "      <th>Elbow Pos Z</th>\n",
       "      <th>Grab Strenth</th>\n",
       "      <th>Grab Angle</th>\n",
       "      <th>Pinch Strength</th>\n",
       "      <th>Label</th>\n",
       "      <th>Name</th>\n",
       "    </tr>\n",
       "  </thead>\n",
       "  <tbody>\n",
       "    <tr>\n",
       "      <th>0</th>\n",
       "      <td>153.3970</td>\n",
       "      <td>20542</td>\n",
       "      <td>1</td>\n",
       "      <td>2</td>\n",
       "      <td>116.75470</td>\n",
       "      <td>166.9477</td>\n",
       "      <td>-20.82885</td>\n",
       "      <td>25.88344</td>\n",
       "      <td>-24.250830</td>\n",
       "      <td>-33.90162</td>\n",
       "      <td>...</td>\n",
       "      <td>121.3219</td>\n",
       "      <td>29.08213</td>\n",
       "      <td>245.2854</td>\n",
       "      <td>-54.15136</td>\n",
       "      <td>159.41980</td>\n",
       "      <td>0.0</td>\n",
       "      <td>0.000000</td>\n",
       "      <td>0.000000</td>\n",
       "      <td>1</td>\n",
       "      <td>0</td>\n",
       "    </tr>\n",
       "    <tr>\n",
       "      <th>1</th>\n",
       "      <td>153.3970</td>\n",
       "      <td>20542</td>\n",
       "      <td>0</td>\n",
       "      <td>2</td>\n",
       "      <td>-77.03016</td>\n",
       "      <td>199.2262</td>\n",
       "      <td>18.11893</td>\n",
       "      <td>-16.44282</td>\n",
       "      <td>-10.225020</td>\n",
       "      <td>-41.09758</td>\n",
       "      <td>...</td>\n",
       "      <td>130.9721</td>\n",
       "      <td>17.86045</td>\n",
       "      <td>-169.9897</td>\n",
       "      <td>-93.44743</td>\n",
       "      <td>11.36950</td>\n",
       "      <td>0.0</td>\n",
       "      <td>0.449641</td>\n",
       "      <td>0.181469</td>\n",
       "      <td>1</td>\n",
       "      <td>0</td>\n",
       "    </tr>\n",
       "    <tr>\n",
       "      <th>2</th>\n",
       "      <td>153.4131</td>\n",
       "      <td>20544</td>\n",
       "      <td>1</td>\n",
       "      <td>2</td>\n",
       "      <td>116.80710</td>\n",
       "      <td>166.0322</td>\n",
       "      <td>-21.34337</td>\n",
       "      <td>2.35236</td>\n",
       "      <td>-52.896870</td>\n",
       "      <td>-28.08331</td>\n",
       "      <td>...</td>\n",
       "      <td>121.5414</td>\n",
       "      <td>29.58164</td>\n",
       "      <td>243.7403</td>\n",
       "      <td>-52.34761</td>\n",
       "      <td>163.38720</td>\n",
       "      <td>0.0</td>\n",
       "      <td>0.000000</td>\n",
       "      <td>0.000000</td>\n",
       "      <td>1</td>\n",
       "      <td>0</td>\n",
       "    </tr>\n",
       "    <tr>\n",
       "      <th>3</th>\n",
       "      <td>153.4131</td>\n",
       "      <td>20544</td>\n",
       "      <td>0</td>\n",
       "      <td>2</td>\n",
       "      <td>-76.84715</td>\n",
       "      <td>198.6608</td>\n",
       "      <td>17.40147</td>\n",
       "      <td>11.60777</td>\n",
       "      <td>-26.097500</td>\n",
       "      <td>-42.28217</td>\n",
       "      <td>...</td>\n",
       "      <td>130.3360</td>\n",
       "      <td>17.53547</td>\n",
       "      <td>-171.1309</td>\n",
       "      <td>-93.72797</td>\n",
       "      <td>10.93816</td>\n",
       "      <td>0.0</td>\n",
       "      <td>0.337501</td>\n",
       "      <td>0.159251</td>\n",
       "      <td>1</td>\n",
       "      <td>0</td>\n",
       "    </tr>\n",
       "    <tr>\n",
       "      <th>4</th>\n",
       "      <td>153.4296</td>\n",
       "      <td>20546</td>\n",
       "      <td>1</td>\n",
       "      <td>2</td>\n",
       "      <td>116.73900</td>\n",
       "      <td>165.0588</td>\n",
       "      <td>-21.79521</td>\n",
       "      <td>-10.11920</td>\n",
       "      <td>-59.440770</td>\n",
       "      <td>-24.87830</td>\n",
       "      <td>...</td>\n",
       "      <td>121.7375</td>\n",
       "      <td>30.14712</td>\n",
       "      <td>245.6555</td>\n",
       "      <td>-47.76900</td>\n",
       "      <td>167.77390</td>\n",
       "      <td>0.0</td>\n",
       "      <td>0.000000</td>\n",
       "      <td>0.000000</td>\n",
       "      <td>1</td>\n",
       "      <td>0</td>\n",
       "    </tr>\n",
       "    <tr>\n",
       "      <th>5</th>\n",
       "      <td>153.4296</td>\n",
       "      <td>20546</td>\n",
       "      <td>0</td>\n",
       "      <td>2</td>\n",
       "      <td>-76.18059</td>\n",
       "      <td>197.5708</td>\n",
       "      <td>16.54493</td>\n",
       "      <td>47.10982</td>\n",
       "      <td>-60.376890</td>\n",
       "      <td>-48.66555</td>\n",
       "      <td>...</td>\n",
       "      <td>129.1100</td>\n",
       "      <td>17.29883</td>\n",
       "      <td>-173.4897</td>\n",
       "      <td>-94.14534</td>\n",
       "      <td>11.39081</td>\n",
       "      <td>0.0</td>\n",
       "      <td>0.271751</td>\n",
       "      <td>0.162548</td>\n",
       "      <td>1</td>\n",
       "      <td>0</td>\n",
       "    </tr>\n",
       "    <tr>\n",
       "      <th>6</th>\n",
       "      <td>153.4462</td>\n",
       "      <td>20548</td>\n",
       "      <td>1</td>\n",
       "      <td>2</td>\n",
       "      <td>116.41550</td>\n",
       "      <td>163.9005</td>\n",
       "      <td>-22.19717</td>\n",
       "      <td>-21.00471</td>\n",
       "      <td>-66.302830</td>\n",
       "      <td>-23.33161</td>\n",
       "      <td>...</td>\n",
       "      <td>121.7746</td>\n",
       "      <td>30.68066</td>\n",
       "      <td>248.7033</td>\n",
       "      <td>-42.40138</td>\n",
       "      <td>171.97310</td>\n",
       "      <td>0.0</td>\n",
       "      <td>0.000000</td>\n",
       "      <td>0.000000</td>\n",
       "      <td>1</td>\n",
       "      <td>0</td>\n",
       "    </tr>\n",
       "    <tr>\n",
       "      <th>7</th>\n",
       "      <td>153.4462</td>\n",
       "      <td>20548</td>\n",
       "      <td>0</td>\n",
       "      <td>2</td>\n",
       "      <td>-75.41199</td>\n",
       "      <td>196.7055</td>\n",
       "      <td>15.70978</td>\n",
       "      <td>43.26208</td>\n",
       "      <td>-44.474460</td>\n",
       "      <td>-47.26429</td>\n",
       "      <td>...</td>\n",
       "      <td>128.1449</td>\n",
       "      <td>17.11410</td>\n",
       "      <td>-175.9467</td>\n",
       "      <td>-94.17613</td>\n",
       "      <td>12.78497</td>\n",
       "      <td>0.0</td>\n",
       "      <td>0.220099</td>\n",
       "      <td>0.119289</td>\n",
       "      <td>1</td>\n",
       "      <td>0</td>\n",
       "    </tr>\n",
       "    <tr>\n",
       "      <th>8</th>\n",
       "      <td>153.4628</td>\n",
       "      <td>20550</td>\n",
       "      <td>1</td>\n",
       "      <td>2</td>\n",
       "      <td>115.98850</td>\n",
       "      <td>162.8186</td>\n",
       "      <td>-22.57689</td>\n",
       "      <td>-23.71579</td>\n",
       "      <td>-58.768430</td>\n",
       "      <td>-20.20117</td>\n",
       "      <td>...</td>\n",
       "      <td>121.6797</td>\n",
       "      <td>30.99374</td>\n",
       "      <td>251.8123</td>\n",
       "      <td>-37.17968</td>\n",
       "      <td>175.55400</td>\n",
       "      <td>0.0</td>\n",
       "      <td>0.000000</td>\n",
       "      <td>0.000000</td>\n",
       "      <td>1</td>\n",
       "      <td>0</td>\n",
       "    </tr>\n",
       "    <tr>\n",
       "      <th>9</th>\n",
       "      <td>153.4628</td>\n",
       "      <td>20550</td>\n",
       "      <td>0</td>\n",
       "      <td>2</td>\n",
       "      <td>-74.87393</td>\n",
       "      <td>196.4057</td>\n",
       "      <td>14.88953</td>\n",
       "      <td>26.89678</td>\n",
       "      <td>-6.413064</td>\n",
       "      <td>-47.78307</td>\n",
       "      <td>...</td>\n",
       "      <td>127.7972</td>\n",
       "      <td>16.92846</td>\n",
       "      <td>-177.7725</td>\n",
       "      <td>-93.79881</td>\n",
       "      <td>14.30938</td>\n",
       "      <td>0.0</td>\n",
       "      <td>0.239776</td>\n",
       "      <td>0.115939</td>\n",
       "      <td>1</td>\n",
       "      <td>0</td>\n",
       "    </tr>\n",
       "  </tbody>\n",
       "</table>\n",
       "<p>10 rows × 24 columns</p>\n",
       "</div>"
      ],
      "text/plain": [
       "       Time   Frame ID   Hand Type   # hands   Position X   Position Y  \\\n",
       "0  153.3970      20542           1         2    116.75470     166.9477   \n",
       "1  153.3970      20542           0         2    -77.03016     199.2262   \n",
       "2  153.4131      20544           1         2    116.80710     166.0322   \n",
       "3  153.4131      20544           0         2    -76.84715     198.6608   \n",
       "4  153.4296      20546           1         2    116.73900     165.0588   \n",
       "5  153.4296      20546           0         2    -76.18059     197.5708   \n",
       "6  153.4462      20548           1         2    116.41550     163.9005   \n",
       "7  153.4462      20548           0         2    -75.41199     196.7055   \n",
       "8  153.4628      20550           1         2    115.98850     162.8186   \n",
       "9  153.4628      20550           0         2    -74.87393     196.4057   \n",
       "\n",
       "    Position Z   Velocity X   Velocity Y   Velocity Z  ...   Wrist Pos Y  \\\n",
       "0    -20.82885     25.88344   -24.250830    -33.90162  ...      121.3219   \n",
       "1     18.11893    -16.44282   -10.225020    -41.09758  ...      130.9721   \n",
       "2    -21.34337      2.35236   -52.896870    -28.08331  ...      121.5414   \n",
       "3     17.40147     11.60777   -26.097500    -42.28217  ...      130.3360   \n",
       "4    -21.79521    -10.11920   -59.440770    -24.87830  ...      121.7375   \n",
       "5     16.54493     47.10982   -60.376890    -48.66555  ...      129.1100   \n",
       "6    -22.19717    -21.00471   -66.302830    -23.33161  ...      121.7746   \n",
       "7     15.70978     43.26208   -44.474460    -47.26429  ...      128.1449   \n",
       "8    -22.57689    -23.71579   -58.768430    -20.20117  ...      121.6797   \n",
       "9     14.88953     26.89678    -6.413064    -47.78307  ...      127.7972   \n",
       "\n",
       "    Wrist Pos Z   Elbow pos X   Elbow Pos Y   Elbow Pos Z   Grab Strenth  \\\n",
       "0      29.08213      245.2854     -54.15136     159.41980            0.0   \n",
       "1      17.86045     -169.9897     -93.44743      11.36950            0.0   \n",
       "2      29.58164      243.7403     -52.34761     163.38720            0.0   \n",
       "3      17.53547     -171.1309     -93.72797      10.93816            0.0   \n",
       "4      30.14712      245.6555     -47.76900     167.77390            0.0   \n",
       "5      17.29883     -173.4897     -94.14534      11.39081            0.0   \n",
       "6      30.68066      248.7033     -42.40138     171.97310            0.0   \n",
       "7      17.11410     -175.9467     -94.17613      12.78497            0.0   \n",
       "8      30.99374      251.8123     -37.17968     175.55400            0.0   \n",
       "9      16.92846     -177.7725     -93.79881      14.30938            0.0   \n",
       "\n",
       "    Grab Angle   Pinch Strength  Label  Name  \n",
       "0     0.000000         0.000000      1     0  \n",
       "1     0.449641         0.181469      1     0  \n",
       "2     0.000000         0.000000      1     0  \n",
       "3     0.337501         0.159251      1     0  \n",
       "4     0.000000         0.000000      1     0  \n",
       "5     0.271751         0.162548      1     0  \n",
       "6     0.000000         0.000000      1     0  \n",
       "7     0.220099         0.119289      1     0  \n",
       "8     0.000000         0.000000      1     0  \n",
       "9     0.239776         0.115939      1     0  \n",
       "\n",
       "[10 rows x 24 columns]"
      ]
     },
     "execution_count": 186,
     "metadata": {},
     "output_type": "execute_result"
    }
   ],
   "source": [
    "address1 = glob.glob(r'/Users/nnussbaum/Ariel/extraFiles/Validation/' + \"/*\")\n",
    "frame1 = Makedata(address1)\n",
    "frame1.head(10)"
   ]
  },
  {
   "cell_type": "code",
   "execution_count": 195,
   "metadata": {},
   "outputs": [
    {
     "name": "stdout",
     "output_type": "stream",
     "text": [
      "(81528, 24)\n",
      "Time               False\n",
      " Frame ID          False\n",
      " Hand Type         False\n",
      " # hands           False\n",
      " Position X        False\n",
      " Position Y        False\n",
      " Position Z        False\n",
      " Velocity X        False\n",
      " Velocity Y        False\n",
      " Velocity Z        False\n",
      " Pitch             False\n",
      " Roll              False\n",
      " Yaw               False\n",
      " Wrist Pos X       False\n",
      " Wrist Pos Y       False\n",
      " Wrist Pos Z       False\n",
      " Elbow pos X       False\n",
      " Elbow Pos Y       False\n",
      " Elbow Pos Z       False\n",
      " Grab Strenth      False\n",
      " Grab Angle        False\n",
      " Pinch Strength    False\n",
      "Label              False\n",
      "Name               False\n",
      "dtype: bool\n"
     ]
    }
   ],
   "source": [
    "print(frame1.shape)\n",
    "print(frame1.isna().any())"
   ]
  },
  {
   "cell_type": "code",
   "execution_count": 184,
   "metadata": {},
   "outputs": [
    {
     "name": "stdout",
     "output_type": "stream",
     "text": [
      "<class 'pandas.core.frame.DataFrame'>\n",
      "RangeIndex: 81528 entries, 0 to 81527\n",
      "Data columns (total 24 columns):\n",
      " #   Column           Non-Null Count  Dtype  \n",
      "---  ------           --------------  -----  \n",
      " 0   Time             81528 non-null  float64\n",
      " 1    Frame ID        81528 non-null  int64  \n",
      " 2    Hand Type       81528 non-null  int64  \n",
      " 3    # hands         81528 non-null  int64  \n",
      " 4    Position X      81528 non-null  float64\n",
      " 5    Position Y      81528 non-null  float64\n",
      " 6    Position Z      81528 non-null  float64\n",
      " 7    Velocity X      81528 non-null  float64\n",
      " 8    Velocity Y      81528 non-null  float64\n",
      " 9    Velocity Z      81528 non-null  float64\n",
      " 10   Pitch           81528 non-null  float64\n",
      " 11   Roll            81528 non-null  float64\n",
      " 12   Yaw             81528 non-null  float64\n",
      " 13   Wrist Pos X     81528 non-null  float64\n",
      " 14   Wrist Pos Y     81528 non-null  float64\n",
      " 15   Wrist Pos Z     81528 non-null  float64\n",
      " 16   Elbow pos X     81528 non-null  float64\n",
      " 17   Elbow Pos Y     81528 non-null  float64\n",
      " 18   Elbow Pos Z     81528 non-null  float64\n",
      " 19   Grab Strenth    81528 non-null  float64\n",
      " 20   Grab Angle      81528 non-null  float64\n",
      " 21   Pinch Strength  81528 non-null  float64\n",
      " 22  Label            81528 non-null  int64  \n",
      " 23  Name             81528 non-null  int64  \n",
      "dtypes: float64(19), int64(5)\n",
      "memory usage: 14.9 MB\n",
      "None\n"
     ]
    }
   ],
   "source": [
    "print(frame1.info())"
   ]
  },
  {
   "cell_type": "code",
   "execution_count": null,
   "metadata": {},
   "outputs": [],
   "source": [
    "def make_Alone(frame):\n",
    "    HandRight = pd.read_csv(\"/Users/ortrabelsi/Desktop/מטלה דימות נתונים/סופי 1/HandRight/HandRight.csv\", index_col=None, header=0)\n",
    "    # drop rows with nan value\n",
    "    HandRight.dropna(inplace= True)\n",
    "    # drop errors\n",
    "    HandRight = HandRight[HandRight[\" Hand Type\"] == \"right\"]\n",
    "\n",
    "    HandRight.reset_index(inplace= True, drop = True)\n",
    "    alone = frame[frame['Label']==2]\n",
    "\n",
    "    # adding Right hand for each one and merge.\n",
    "    temp_list = []\n",
    "    right = HandRight\n",
    "    right.columns += \"_\"\n",
    "    for i in range(9):\n",
    "        left = alone[alone[\"Name\"] == i]\n",
    "        left.reset_index(inplace= True, drop = True)\n",
    "        temp_list.append(pd.concat([left, right], axis=1, ignore_index= False).dropna())\n",
    "\n",
    "    alone = pd.concat(temp_list, axis=0, ignore_index=True)\n",
    "\n",
    "    # delete Name from \"Alone\" \n",
    "    alone.drop([\"Name\",\"Time_\"], axis=1, inplace=True)\n",
    "    return alone"
   ]
  },
  {
   "cell_type": "code",
   "execution_count": null,
   "metadata": {},
   "outputs": [],
   "source": [
    "def Make_not_Alone(frame):\n",
    "    not_alone = frame[frame['Label']!=2]\n",
    "\n",
    "    L = not_alone[(not_alone[' Hand Type'] == 0)]\n",
    "    R = not_alone[(not_alone[' Hand Type'] == 1)]\n",
    "\n",
    "    L = L.set_index(['Time', 'Name'])\n",
    "    R = R.set_index(['Time', 'Name'])\n",
    "    R.columns += \"_\"\n",
    "\n",
    "    not_alone = pd.concat([L, R], axis=1)\n",
    "    not_alone.reset_index(inplace= True)\n",
    "    not_alone.drop([\"Name\",\"Label_\"],axis=1, inplace=True)\n",
    "\n",
    "\n",
    "    return not_alone"
   ]
  },
  {
   "cell_type": "code",
   "execution_count": null,
   "metadata": {},
   "outputs": [],
   "source": [
    "# Marge all the data again\n",
    "alone = make_Alone(frame)\n",
    "not_alone = Make_not_Alone(frame)\n",
    "\n",
    "# final df\n",
    "df = pd.concat([not_alone, alone], axis=0, ignore_index=True)\n",
    "\n",
    "\n",
    "# drop Irrelevant and take sample every 10 row\n",
    "df = df.drop(['Time', ' Frame ID',' Hand Type',' # hands',' Hand Type_',' # hands_'\n",
    "           ,' Frame ID_'], axis=1)\n",
    "df = df[::10]\n",
    "df"
   ]
  },
  {
   "cell_type": "markdown",
   "metadata": {},
   "source": [
    "## Divide data into training and testing sets"
   ]
  },
  {
   "cell_type": "code",
   "execution_count": null,
   "metadata": {},
   "outputs": [],
   "source": [
    "x = df.drop('Label', axis = 1)\n",
    "y = df.Label\n",
    "x_train, x_test, y_train, y_test = train_test_split(x,y,test_size=0.2)"
   ]
  },
  {
   "cell_type": "code",
   "execution_count": null,
   "metadata": {},
   "outputs": [],
   "source": [
    "# Change the name back to x_train and x_test\n",
    "scal_x_train = pd.DataFrame(StandardScaler().fit(x_train).transform(x_train),columns=X.columns)\n",
    "scal_x_test = pd.DataFrame(StandardScaler().fit(x_train).transform(x_test),columns=X.columns)"
   ]
  },
  {
   "cell_type": "markdown",
   "metadata": {},
   "source": [
    "Let's remember what the confusion matrix shows us:"
   ]
  },
  {
   "attachments": {
    "image.png": {
     "image/png": "[encoded data removed]"
    }
   },
   "cell_type": "markdown",
   "metadata": {},
   "source": [
    "![image.png](attachment:image.png)"
   ]
  },
  {
   "cell_type": "markdown",
   "metadata": {},
   "source": [
    "## Decision Tree Classifier"
   ]
  },
  {
   "cell_type": "code",
   "execution_count": null,
   "metadata": {},
   "outputs": [],
   "source": [
    "dtree = DecisionTreeClassifier(max_depth = 2)\n",
    "dtree.fit(x_train, y_train)\n",
    "prediction = dtree.predict(x_test)\n",
    "dtc_a=accuracy_score(prediction,y_test)\n",
    "print(dtc_a)"
   ]
  },
  {
   "cell_type": "markdown",
   "metadata": {},
   "source": [
    "Confusion matrix:"
   ]
  },
  {
   "cell_type": "code",
   "execution_count": null,
   "metadata": {},
   "outputs": [],
   "source": [
    "con_mat = confusion_matrix(y_test, prediction)\n",
    "f, ax = plt.subplots(figsize=(8, 6))\n",
    "sns.heatmap(con_mat, annot=True, fmt='g')"
   ]
  },
  {
   "cell_type": "markdown",
   "metadata": {},
   "source": [
    "## Pipeline"
   ]
  },
  {
   "cell_type": "code",
   "execution_count": null,
   "metadata": {},
   "outputs": [],
   "source": [
    "pipe = Pipeline([('scaler', StandardScaler()), ('svc', SVC())])\n",
    "pipe.fit(x_train, y_train)\n",
    "prediction = pipe.predict(x_test)\n",
    "ppl_a=accuracy_score(prediction,y_test)\n",
    "print(ppl_a)"
   ]
  },
  {
   "cell_type": "markdown",
   "metadata": {},
   "source": [
    "Confusion matrix:"
   ]
  },
  {
   "cell_type": "code",
   "execution_count": null,
   "metadata": {},
   "outputs": [],
   "source": [
    "con_mat = confusion_matrix(y_test, prediction)\n",
    "f, ax = plt.subplots(figsize=(8, 6))\n",
    "sns.heatmap(con_mat, annot=True, fmt='g')"
   ]
  },
  {
   "cell_type": "markdown",
   "metadata": {},
   "source": [
    "## Logistic Regression"
   ]
  },
  {
   "cell_type": "code",
   "execution_count": null,
   "metadata": {},
   "outputs": [],
   "source": [
    "logreg = LogisticRegression(max_iter=150)\n",
    "logreg.fit(x_train, y_train)\n",
    "prediction = logreg.predict(x_test)\n",
    "log_a = accuracy_score(prediction, y_test)\n",
    "print(log_a)"
   ]
  },
  {
   "cell_type": "markdown",
   "metadata": {},
   "source": [
    "Confusion matrix:"
   ]
  },
  {
   "cell_type": "code",
   "execution_count": null,
   "metadata": {},
   "outputs": [],
   "source": [
    "con_mat = confusion_matrix(y_test, prediction)\n",
    "f, ax = plt.subplots(figsize=(8, 6))\n",
    "sns.heatmap(con_mat, annot=True, fmt='g')"
   ]
  },
  {
   "cell_type": "markdown",
   "metadata": {},
   "source": [
    "## K Nearest Neighbors"
   ]
  },
  {
   "cell_type": "code",
   "execution_count": null,
   "metadata": {},
   "outputs": [],
   "source": [
    "knn = KNeighborsClassifier(n_neighbors = 8)\n",
    "knn.fit(x_train,y_train)\n",
    "prediction = knn.predict(x_test)\n",
    "knn_a=accuracy_score(y_test, prediction)\n",
    "print(knn_a)"
   ]
  },
  {
   "cell_type": "markdown",
   "metadata": {},
   "source": [
    "Confusion matrix:"
   ]
  },
  {
   "cell_type": "code",
   "execution_count": null,
   "metadata": {},
   "outputs": [],
   "source": [
    "con_mat = confusion_matrix(y_test, prediction)\n",
    "f, ax = plt.subplots(figsize=(8, 6))\n",
    "sns.heatmap(con_mat, annot=True, fmt='g')"
   ]
  },
  {
   "cell_type": "markdown",
   "metadata": {},
   "source": [
    "# Ensemble Learning models"
   ]
  },
  {
   "cell_type": "markdown",
   "metadata": {},
   "source": [
    "## Random Forest Classifier"
   ]
  },
  {
   "cell_type": "code",
   "execution_count": null,
   "metadata": {},
   "outputs": [],
   "source": [
    "RForest = RandomForestClassifier()\n",
    "RForest.fit(x_train, y_train)\n",
    "prediction = RForest.predict(x_test)\n",
    "rfc_a=accuracy_score(prediction,y_test)\n",
    "print(rfc_a)"
   ]
  },
  {
   "cell_type": "markdown",
   "metadata": {},
   "source": [
    "Confusion matrix:"
   ]
  },
  {
   "cell_type": "code",
   "execution_count": null,
   "metadata": {},
   "outputs": [],
   "source": [
    "con_mat = confusion_matrix(y_test, prediction)\n",
    "f, ax = plt.subplots(figsize=(8, 6))\n",
    "sns.heatmap(con_mat, annot=True, fmt='g')"
   ]
  },
  {
   "cell_type": "markdown",
   "metadata": {},
   "source": [
    "## AdaBoost Classifier"
   ]
  },
  {
   "cell_type": "code",
   "execution_count": null,
   "metadata": {},
   "outputs": [],
   "source": [
    "ada = AdaBoostClassifier(n_estimators=100, random_state=0)\n",
    "ada.fit(x_train,y_train)\n",
    "prediction = ada.predict(x_test)\n",
    "ada_a = accuracy_score(y_test, prediction)\n",
    "print(ada_a)"
   ]
  },
  {
   "cell_type": "markdown",
   "metadata": {},
   "source": [
    "Confusion matrix:"
   ]
  },
  {
   "cell_type": "code",
   "execution_count": null,
   "metadata": {},
   "outputs": [],
   "source": [
    "con_mat = confusion_matrix(y_test, prediction)\n",
    "f, ax = plt.subplots(figsize=(8, 6))\n",
    "sns.heatmap(con_mat, annot=True, fmt='g')"
   ]
  },
  {
   "cell_type": "markdown",
   "metadata": {},
   "source": [
    "## XGB Classifier"
   ]
  },
  {
   "cell_type": "code",
   "execution_count": null,
   "metadata": {},
   "outputs": [],
   "source": [
    "xgb = xgb.XGBClassifier()\n",
    "xgb.fit(x_train,y_train)\n",
    "prediction = xgb.predict(x_test)\n",
    "xgb_a = accuracy_score(y_test, prediction)\n",
    "print(xgb_a)"
   ]
  },
  {
   "cell_type": "markdown",
   "metadata": {},
   "source": [
    "Confusion matrix:"
   ]
  },
  {
   "cell_type": "code",
   "execution_count": null,
   "metadata": {},
   "outputs": [],
   "source": [
    "con_mat = confusion_matrix(y_test, prediction)\n",
    "f, ax = plt.subplots(figsize=(8, 6))\n",
    "sns.heatmap(con_mat, annot=True, fmt='g')"
   ]
  },
  {
   "cell_type": "markdown",
   "metadata": {},
   "source": [
    "## GradientBoostingClassifier"
   ]
  },
  {
   "cell_type": "code",
   "execution_count": null,
   "metadata": {},
   "outputs": [],
   "source": [
    "gbc = GradientBoostingClassifier(n_estimators=100, learning_rate=1.0,max_depth=1, random_state=0)\n",
    "gbc.fit(x_train,y_train)\n",
    "prediction = gbc.predict(x_test)\n",
    "gbc_a = accuracy_score(y_test, prediction)\n",
    "print(gbc_a)"
   ]
  },
  {
   "cell_type": "markdown",
   "metadata": {},
   "source": [
    "Confusion matrix:"
   ]
  },
  {
   "cell_type": "code",
   "execution_count": null,
   "metadata": {},
   "outputs": [],
   "source": [
    "con_mat = confusion_matrix(y_test, prediction)\n",
    "f, ax = plt.subplots(figsize=(8, 6))\n",
    "sns.heatmap(con_mat, annot=True, fmt='g')"
   ]
  },
  {
   "cell_type": "markdown",
   "metadata": {},
   "source": [
    "## Voting Classifier"
   ]
  },
  {
   "cell_type": "code",
   "execution_count": null,
   "metadata": {},
   "outputs": [],
   "source": [
    "r1 = logreg\n",
    "r2 = dtree\n",
    "r3 = KNeighborsClassifier()\n",
    "r4 = AdaBoostClassifier()\n",
    "r5 = GradientBoostingClassifier()\n",
    "r6 = RandomForestClassifier(n_estimators=10, random_state=42)\n",
    "r7 = make_pipeline(StandardScaler(),LinearSVC(random_state=1, tol=1e-5))"
   ]
  },
  {
   "cell_type": "code",
   "execution_count": null,
   "metadata": {},
   "outputs": [],
   "source": [
    "vr = VotingClassifier([('lr', logreg), ('dt', dtree),('knn', knn), ('rfc',RForest)])\n",
    "vr.fit(x_train,y_train)\n",
    "prediction = vr.predict(x_test)\n",
    "vr_a = accuracy_score(y_test, prediction)\n",
    "print(vr_a)"
   ]
  },
  {
   "cell_type": "markdown",
   "metadata": {},
   "source": [
    "Confusion matrix:"
   ]
  },
  {
   "cell_type": "code",
   "execution_count": null,
   "metadata": {},
   "outputs": [],
   "source": [
    "con_mat = confusion_matrix(y_test, prediction)\n",
    "f, ax = plt.subplots(figsize=(8, 6))\n",
    "sns.heatmap(con_mat, annot=True, fmt='g')"
   ]
  },
  {
   "cell_type": "markdown",
   "metadata": {},
   "source": [
    "In summary:"
   ]
  },
  {
   "cell_type": "markdown",
   "metadata": {},
   "source": [
    "# Model Accuracy Results Comparison"
   ]
  },
  {
   "cell_type": "code",
   "execution_count": null,
   "metadata": {},
   "outputs": [],
   "source": [
    "data = [[rfc_a*100, dtc_a*100, ppl_a*100, log_a*100, knn_a*100, ada_a*100, xgb_a*100, gbc_a*100, vr_a*100] ]\n",
    "models=['Random Forest','Decision Tree', 'Pipeline','Logistic Regression','KNN', 'AdaBoost', 'XGB' , 'Gradient Boosting','Voting']\n",
    "pd.DataFrame(data, columns = models , index=[\"Accuracy Score (%)\"])"
   ]
  },
  {
   "cell_type": "code",
   "execution_count": null,
   "metadata": {},
   "outputs": [],
   "source": [
    "models=['Random Forest','Decision Tree', 'Pipeline','Logistic Regression','KNN', 'AdaBoost', 'XGB' , 'Gradient Boosting','Voting']\n",
    "data = [rfc_a*100, dtc_a*100, ppl_a*100, log_a*100, knn_a*100, ada_a*100, xgb_a*100, gbc_a*100, vr_a*100] \n",
    "plt.figure(figsize=(10,10))\n",
    "plt.plot (models, data, linestyle=':',color='purple')\n",
    "plt.title(\"Model Accuracy Results Comparison\", fontsize = 15)\n",
    "plt.xlabel(\"Classifier\", fontsize=15)\n",
    "plt.ylabel(\"Accuracy Score (%)\", fontsize = 15)\n",
    "plt.figure(facecolor='w', edgecolor='k')\n",
    "plt.show()"
   ]
  },
  {
   "cell_type": "markdown",
   "metadata": {},
   "source": [
    "### The best result we've achieved was"
   ]
  },
  {
   "cell_type": "markdown",
   "metadata": {},
   "source": [
    "The end."
   ]
  },
  {
   "cell_type": "code",
   "execution_count": null,
   "metadata": {},
   "outputs": [],
   "source": []
  }
 ],
 "metadata": {
  "kernelspec": {
   "display_name": "Python 3",
   "language": "python",
   "name": "python3"
  },
  "language_info": {
   "codemirror_mode": {
    "name": "ipython",
    "version": 3
   },
   "file_extension": ".py",
   "mimetype": "text/x-python",
   "name": "python",
   "nbconvert_exporter": "python",
   "pygments_lexer": "ipython3",
   "version": "3.8.3"
  }
 },
 "nbformat": 4,
 "nbformat_minor": 4
}
